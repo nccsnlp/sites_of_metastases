{
 "cells": [
  {
   "cell_type": "markdown",
   "id": "cf17f981",
   "metadata": {},
   "source": [
    "## Purpose: To resample train sets \n",
    "- oversample minority classes (B-, I-)\n",
    "- undersample majority classes (O)\n"
   ]
  },
  {
   "cell_type": "raw",
   "id": "80a7e560",
   "metadata": {},
   "source": [
    "#Notebook directory structure\n",
    "    > dataset : contains input conll files\n",
    "        > 02conll : conll folders\n",
    "            >conll_train : train folders"
   ]
  },
  {
   "cell_type": "markdown",
   "id": "baef2923",
   "metadata": {},
   "source": [
    "### Note: Before running this notebook, please configure the following paths"
   ]
  },
  {
   "cell_type": "code",
   "execution_count": 7,
   "id": "f2c7338a",
   "metadata": {},
   "outputs": [],
   "source": [
    "data_folder = \"dataset\""
   ]
  },
  {
   "cell_type": "code",
   "execution_count": null,
   "id": "7fd1dd76",
   "metadata": {},
   "outputs": [],
   "source": [
    "#!dir $data_folder"
   ]
  },
  {
   "cell_type": "markdown",
   "id": "890a88dd",
   "metadata": {},
   "source": [
    "## 1. Resample CoNLL File (train set)\n",
    "- this is to address class imbalanced\n",
    "- to oversample minority classes (B-, I-)\n",
    "- to undersample majority classes (O)"
   ]
  },
  {
   "cell_type": "code",
   "execution_count": 2,
   "id": "9736ae50",
   "metadata": {},
   "outputs": [],
   "source": [
    "import re\n",
    "import csv\n",
    "import numpy as np\n",
    "import pandas as pd"
   ]
  },
  {
   "cell_type": "markdown",
   "id": "9e63b820",
   "metadata": {},
   "source": [
    "### Custom Function to re-sample train set"
   ]
  },
  {
   "cell_type": "code",
   "execution_count": 3,
   "id": "eb291c29",
   "metadata": {},
   "outputs": [],
   "source": [
    "def resample_conll_fortrain(folder, input_filename, undersampling_ratio, oversampling_ratio, output_filename):\n",
    "    # Read text file\n",
    "    with open(folder + \"\\\\\" + input_filename) as f:\n",
    "        text = f.read()\n",
    "         \n",
    "    # Create dataframe to store the sentences\n",
    "    out = re.split('\\n\\n', text)\n",
    "    df = pd.DataFrame(out, columns = ['Sentences'])\n",
    "    \n",
    "    df['Ner Labels'] = df['Sentences'].str.contains(pat = 'B-|I-').astype(int)\n",
    "    df0 = df[df['Ner Labels'] == 0]\n",
    "    df1 = df[df['Ner Labels'] == 1]\n",
    "   \n",
    "    # Undersample sentences with all \"O\" labels\n",
    "    df0_resample = df0.sample(frac = undersampling_ratio, random_state = 42)\n",
    "    \n",
    "    # Oversample sentences with \"B-\" and \"I-\" Labels\n",
    "    df1_oversample = pd.concat([df1]*oversampling_ratio, ignore_index=True)\n",
    "    \n",
    "    # Combine undersample sentences\n",
    "    final_df = pd.concat([df0_resample, df1_oversample])\n",
    "    \n",
    "    # Shuffle rows within dataframe\n",
    "    final_df = final_df.sample(frac=1, random_state=42)\n",
    "    \n",
    "    #use line terminator to add blank row at the end of each sentence\n",
    "    final_df[['Sentences']].to_csv('output.txt', header=False, index=False, line_terminator='\\n\\n')\n",
    "   \n",
    "    with open('output.txt') as f:\n",
    "        text = f.read()\n",
    "        output = text.replace('\"', '')    \n",
    "\n",
    "    with open(folder + \"\\\\\" + output_filename, 'w') as f:\n",
    "        for i in output:\n",
    "            f.write(i)\n",
    "        \n",
    "    return"
   ]
  },
  {
   "cell_type": "code",
   "execution_count": 4,
   "id": "86bc94e9",
   "metadata": {},
   "outputs": [],
   "source": [
    "# Set Parameters for resample_conll\n",
    "train_folder = data_folder+\"\\\\02conll\\conll_train\"\n",
    "\n",
    "#dataset name\n",
    "dataset_name = \"train4522\"   \n",
    "\n",
    "# change the radio accordingly to suit your dataset\n",
    "undersampling_ratio = [0.1,0.2,0.3,0.4,0.5]\n",
    "oversampling_ratio = [1,2,3]"
   ]
  },
  {
   "cell_type": "markdown",
   "id": "87003508",
   "metadata": {},
   "source": [
    "### Generate Re-sample Train sets"
   ]
  },
  {
   "cell_type": "code",
   "execution_count": 5,
   "id": "cee6b4dd",
   "metadata": {},
   "outputs": [],
   "source": [
    "# Generate output files with different combinations of undersampling and oversampling ratio\n",
    "# this will generate 15 training sets in conll_train folder\n",
    "import re\n",
    "for u in undersampling_ratio:\n",
    "    for o in oversampling_ratio:\n",
    "        output_filename = dataset_name+\"_u\" + str(u) + \"o\" + str(o) + \".txt\"\n",
    "        #print(output_path)\n",
    "        resample_conll_fortrain(train_folder, dataset_name+\".txt\", u, o, output_filename)"
   ]
  },
  {
   "cell_type": "markdown",
   "id": "f832106d",
   "metadata": {},
   "source": [
    "Note: Filename with suffix of shortanno_u0.1o2 refers to a combination of: undersampling ratio (u) of 0.1 and oversampling ratio (o) of 2\n",
    "\n",
    "1. For under-sampling, only a fraction of sentences that did not contain any “B-” and “I-” labels were kept; an under-sampling ratio of 0.1 means that only 10% of sentences meeting the condition above were kept. \n",
    "\n",
    "2. For over-sampling, sentences that contained “B-” and “I-” labels were duplicated to create more training examples; an over-sampling ratio of 2 meant that each sentence meeting the condition was duplicated. "
   ]
  },
  {
   "cell_type": "code",
   "execution_count": null,
   "id": "033ecc84",
   "metadata": {},
   "outputs": [],
   "source": []
  }
 ],
 "metadata": {
  "kernelspec": {
   "display_name": "Python 3 (ipykernel)",
   "language": "python",
   "name": "python3"
  },
  "language_info": {
   "codemirror_mode": {
    "name": "ipython",
    "version": 3
   },
   "file_extension": ".py",
   "mimetype": "text/x-python",
   "name": "python",
   "nbconvert_exporter": "python",
   "pygments_lexer": "ipython3",
   "version": "3.7.2"
  }
 },
 "nbformat": 4,
 "nbformat_minor": 5
}
